{
 "cells": [
  {
   "cell_type": "code",
   "execution_count": 38,
   "metadata": {},
   "outputs": [],
   "source": [
    "from azure.cognitiveservices.vision.customvision.prediction import CustomVisionPredictionClient"
   ]
  },
  {
   "cell_type": "code",
   "execution_count": 39,
   "metadata": {},
   "outputs": [],
   "source": [
    "from msrest.authentication import ApiKeyCredentials"
   ]
  },
  {
   "cell_type": "code",
   "execution_count": 40,
   "metadata": {},
   "outputs": [],
   "source": [
    "from matplotlib import pyplot as plt"
   ]
  },
  {
   "cell_type": "code",
   "execution_count": 41,
   "metadata": {},
   "outputs": [],
   "source": [
    "from PIL import Image, ImageDraw, ImageFont"
   ]
  },
  {
   "cell_type": "code",
   "execution_count": 42,
   "metadata": {},
   "outputs": [],
   "source": [
    "import numpy as np"
   ]
  },
  {
   "cell_type": "code",
   "execution_count": 43,
   "metadata": {},
   "outputs": [],
   "source": [
    "import os"
   ]
  },
  {
   "cell_type": "code",
   "execution_count": 44,
   "metadata": {},
   "outputs": [],
   "source": [
    "# 사용자가 만든 AI 모델의 예측 기능을 사용하기 위한 endpoint 지정\n",
    "prediction_endpoint = \"https://pf01customvision-prediction.cognitiveservices.azure.com\"\n",
    " # KEY 값 지정\n",
    "prediction_key = \"93a5e8b1ec894a73a62a56132d22ac87\"\n",
    " # 프로젝트 ID 지정~\n",
    "project_id = \"e630faee-1dd6-4df6-9cdc-ca05383c4c21\"\n",
    " # 모델명 지정\n",
    "model_name = \"Iteration1\""
   ]
  },
  {
   "cell_type": "code",
   "execution_count": 45,
   "metadata": {},
   "outputs": [],
   "source": [
    " # 앞에서지정한 API KEY를 써서 커스텀 비전 모델을 사용할 클라이언트를 인증\n",
    "credentials = ApiKeyCredentials(in_headers={\"Prediction-key\": prediction_key})\n",
    " # endpoint를 써서 클라이언트 등록\n",
    "predictor = CustomVisionPredictionClient(endpoint=prediction_endpoint, credentials=credentials)\n"
   ]
  },
  {
   "cell_type": "code",
   "execution_count": null,
   "metadata": {},
   "outputs": [],
   "source": [
    "# 테스트 이미지를 Codespace workspace에 추가한 후 image_file 변수로 지정\n",
    "image_file = \"./data/test-1.png\"\n",
    " # 이미지 파일 이름 출력\n",
    "print('Detecting objects in ', image_file)\n",
    " # Python Imaging Library의 image open함수를 써서 테스트 이미지 파일 오픈\n",
    "image = Image.open(image_file)\n",
    " # Numpy에서 이미지의 shape(높이, 폭, 채널) 읽기\n",
    "h, w, ch = np.array(image).shape"
   ]
  },
  {
   "cell_type": "code",
   "execution_count": null,
   "metadata": {},
   "outputs": [],
   "source": [
    " # 테스트 이미지를 열고 모델에 적용해서 결과를 저장\n",
    "with open(image_file, mode=\"rb\") as image_data:\n",
    "    results = predictor.detect_image(project_id, model_name, image_data)\n",
    " # 예측한 결과를 모두 출력 (텍스트로 표시됨)\n",
    "for prediction in results.predictions:\n",
    "    print(\"\\t\" + prediction.tag_name + \" : {0:.2f}% bbox.left = {1:.2f}, bbox.top = {2:.2f}, bbox.width = {3:.2f}, bbox.height = {4:.2f} \".format(prediction.probability * 100, prediction.bounding_box.left, prediction.bounding_box.top, prediction.bounding_box.width, prediction.bounding_box.height))"
   ]
  },
  {
   "cell_type": "code",
   "execution_count": null,
   "metadata": {},
   "outputs": [],
   "source": [
    "fig = plt.figure(figsize=(8,8))\n",
    "plt.axis('off')\n",
    " # 테스트 이미지를 그리기\n",
    "# 개체 인식 박스를 magenta로 지정\n",
    "draw = ImageDraw.Draw(image)\n",
    "lineWidth = int(w/100)\n",
    "color = 'magenta'"
   ]
  },
  {
   "cell_type": "code",
   "execution_count": null,
   "metadata": {},
   "outputs": [],
   "source": [
    "for prediction in results.predictions:\n",
    "# 확률이 50%이 이상인 경우 bounding box 값을 읽음\n",
    "    if (prediction.probability*100) > 50:\n",
    "        left = prediction.bounding_box.left * w\n",
    "        top = prediction.bounding_box.top * h\n",
    "        width = prediction.bounding_box.width * w\n",
    "        height = prediction.bounding_box.height * h\n",
    "# bounding box 값을 magenta색으로 표시\n",
    "        points = ((left,top), (left+width,top), (left+width,top+height), (left,top+height),(left,top))\n",
    "        draw.line(points, fill=color, width=lineWidth)\n",
    "        plt.annotate(prediction.tag_name + ' {0:.2f}%'.format(prediction.probability * 100), (left, top), color=color)\n",
    "# bounding box 표시된 이미지를 output.jpg로 저장\n",
    "plt.imshow(image)\n",
    "outputfile = 'output.jpg'\n",
    "fig.savefig(outputfile)\n",
    "print('Results saved in', outputfile)"
   ]
  }
 ],
 "metadata": {
  "kernelspec": {
   "display_name": "Python 3",
   "language": "python",
   "name": "python3"
  },
  "language_info": {
   "codemirror_mode": {
    "name": "ipython",
    "version": 3
   },
   "file_extension": ".py",
   "mimetype": "text/x-python",
   "name": "python",
   "nbconvert_exporter": "python",
   "pygments_lexer": "ipython3",
   "version": "3.11.1"
  }
 },
 "nbformat": 4,
 "nbformat_minor": 2
}
